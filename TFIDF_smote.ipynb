{
  "nbformat": 4,
  "nbformat_minor": 0,
  "metadata": {
    "colab": {
      "provenance": []
    },
    "kernelspec": {
      "name": "python3",
      "display_name": "Python 3"
    },
    "language_info": {
      "name": "python"
    }
  },
  "cells": [
    {
      "cell_type": "code",
      "execution_count": 1,
      "metadata": {
        "colab": {
          "base_uri": "https://localhost:8080/"
        },
        "id": "arjkeJBAXlYz",
        "outputId": "c8bd593b-887a-4b51-f53b-f55a3d7aeb67"
      },
      "outputs": [
        {
          "output_type": "stream",
          "name": "stdout",
          "text": [
            "<class 'pandas.core.frame.DataFrame'>\n",
            "RangeIndex: 89640 entries, 0 to 89639\n",
            "Data columns (total 6 columns):\n",
            " #   Column       Non-Null Count  Dtype  \n",
            "---  ------       --------------  -----  \n",
            " 0   user_id      89640 non-null  object \n",
            " 1   item_id      89640 non-null  object \n",
            " 2   score        89640 non-null  float64\n",
            " 3   reviewTime   89640 non-null  object \n",
            " 4   review_text  89640 non-null  object \n",
            " 5   summary      89640 non-null  object \n",
            "dtypes: float64(1), object(5)\n",
            "memory usage: 4.1+ MB\n",
            "None\n"
          ]
        }
      ],
      "source": [
        "import pandas as pd\n",
        "\n",
        "'''\n",
        "'overall' = 買家對產品的評分\n",
        "'verified' = true\n",
        "'reviewTime' = 評論的時間\n",
        "'reviewerID' = 評論ID\n",
        "'asin' = 產品ID\n",
        "'style' = 產品的特徵\n",
        "'reviewerName' = 評論ID的名字\n",
        "'reviewText' = 評論的內容\n",
        "'summary' = 評論內容的總結\n",
        "'unixReviewTime' = 評論的格林威治時間\n",
        "'''\n",
        "\n",
        "fin = open('/content/Magazine_Subscriptions.json')\n",
        "\n",
        "review_list=[]\n",
        "for line in fin:\n",
        "  d = eval(line,{'true':True,'false':False,'null':None})\n",
        "  if 'reviewText' in d.keys() and 'summary' in d.keys():\n",
        "      review_list.append([d['reviewerID'], d['asin'], d['overall'], d['reviewTime'], d['reviewText'], d['summary']])\n",
        "df = pd.DataFrame(review_list, columns=['user_id', 'item_id', 'score','reviewTime', 'review_text','summary'])\n",
        "print(df.info())"
      ]
    },
    {
      "cell_type": "code",
      "source": [
        "import pandas as pd\n",
        "import numpy as np\n",
        "import re\n",
        "import nltk\n",
        "from nltk.corpus import stopwords\n",
        "from wordcloud import WordCloud\n",
        "import matplotlib.pyplot as plt\n",
        "import random as rn\n",
        "import seaborn as sns\n",
        "from plotly import graph_objs as go\n",
        "import plotly.express as px\n",
        "import plotly.figure_factory as ff\n",
        "from collections import Counter\n",
        "from PIL import Image\n",
        "\n",
        "from imblearn.over_sampling import RandomOverSampler\n",
        "from sklearn.model_selection import train_test_split\n",
        "from sklearn.feature_extraction.text import CountVectorizer\n",
        "from sklearn.feature_extraction.text import TfidfTransformer"
      ],
      "metadata": {
        "id": "9HmGXwkKXmq7"
      },
      "execution_count": 2,
      "outputs": []
    },
    {
      "cell_type": "code",
      "source": [
        "def score_round(x):\n",
        "    if x>=3:\n",
        "        return 1\n",
        "    else:\n",
        "        return 0"
      ],
      "metadata": {
        "id": "57VsAyiuXn2N"
      },
      "execution_count": 3,
      "outputs": []
    },
    {
      "cell_type": "code",
      "source": [
        "df['review_score']= df.score.apply(score_round)\n",
        "print(df.head())"
      ],
      "metadata": {
        "colab": {
          "base_uri": "https://localhost:8080/"
        },
        "id": "qiU2tXIEXpE9",
        "outputId": "0cf47b32-9957-40d2-a432-5f4de563dfac"
      },
      "execution_count": 4,
      "outputs": [
        {
          "output_type": "stream",
          "name": "stdout",
          "text": [
            "          user_id     item_id  score   reviewTime  \\\n",
            "0   AH2IFH762VY5U  B00005N7P0    5.0   11 8, 2001   \n",
            "1   AOSFI0JEYU4XM  B00005N7P0    5.0  10 31, 2001   \n",
            "2  A3JPFWKS83R49V  B00005N7OJ    3.0  03 24, 2007   \n",
            "3  A19FKU6JZQ2ECJ  B00005N7OJ    5.0  11 10, 2006   \n",
            "4  A25MDGOMZ2GALN  B00005N7P0    5.0  07 14, 2014   \n",
            "\n",
            "                                         review_text  \\\n",
            "0  for computer enthusiast, MaxPC is a welcome si...   \n",
            "1  Thank god this is not a Ziff Davis publication...   \n",
            "2  Antiques Magazine is a publication made for an...   \n",
            "3  This beautiful magazine is in itself a work of...   \n",
            "4                          A great read every issue.   \n",
            "\n",
            "                                           summary  review_score  \n",
            "0           AVID READER SINCE \"boot\"  WAS THE NAME             1  \n",
            "1                               The straight scoop             1  \n",
            "2  Antiques Magazine is Good, but not for Everyone             1  \n",
            "3                           THE  DISCERNING READER             1  \n",
            "4                                       Five Stars             1  \n"
          ]
        }
      ]
    },
    {
      "cell_type": "code",
      "source": [
        "df.review_text = df.review_text.astype('str')\n",
        "df.summary = df.summary.astype('str')"
      ],
      "metadata": {
        "id": "AD0X_lsiXqNz"
      },
      "execution_count": 5,
      "outputs": []
    },
    {
      "cell_type": "code",
      "source": [
        "df.isnull().sum()"
      ],
      "metadata": {
        "colab": {
          "base_uri": "https://localhost:8080/"
        },
        "id": "2VJQvX0kXrXT",
        "outputId": "2a292c0a-d767-4511-de5f-e457df2b1ebf"
      },
      "execution_count": 6,
      "outputs": [
        {
          "output_type": "execute_result",
          "data": {
            "text/plain": [
              "user_id         0\n",
              "item_id         0\n",
              "score           0\n",
              "reviewTime      0\n",
              "review_text     0\n",
              "summary         0\n",
              "review_score    0\n",
              "dtype: int64"
            ]
          },
          "metadata": {},
          "execution_count": 6
        }
      ]
    },
    {
      "cell_type": "code",
      "source": [
        "df['review_score'].value_counts()"
      ],
      "metadata": {
        "colab": {
          "base_uri": "https://localhost:8080/"
        },
        "id": "usdkiGmRXs0A",
        "outputId": "72e6f5ec-5ef4-4c41-e05e-cff9284ceb06"
      },
      "execution_count": 8,
      "outputs": [
        {
          "output_type": "execute_result",
          "data": {
            "text/plain": [
              "review_score\n",
              "1    73390\n",
              "0    16250\n",
              "Name: count, dtype: int64"
            ]
          },
          "metadata": {},
          "execution_count": 8
        }
      ]
    },
    {
      "cell_type": "code",
      "source": [
        "def cleanlink(raw):\n",
        "    \"\"\" Remove hyperlinks and markup \"\"\"\n",
        "    result = re.sub(\"<[a][^>]*>(.+?)</[a]>\", 'Link.', raw)\n",
        "    result = re.sub('&gt;', \"\", result)#'>'\n",
        "    result = re.sub('&lt;', \"\", result)#'<'\n",
        "    result = re.sub('&#x27;', \"'\", result)#'''\n",
        "    result = re.sub('&quot;', '\"', result)#'\"'\n",
        "    result = re.sub('&apos;', '\"', result)#'''\n",
        "    result = re.sub('&#x2F;', \"\", result)#'/'\n",
        "    result = re.sub('<p>', \"\", result)#''\n",
        "    result = re.sub('</p>', \"\", result)#''\n",
        "    result = re.sub('<i>', \"\", result)#''\n",
        "    result = re.sub('</i>', \"\", result)#''\n",
        "    result = re.sub(\"\\n\", \"\", result)\n",
        "    return result\n",
        "\n",
        "def remove_num(texts):\n",
        "   output = re.sub(r'\\d+', '', texts)\n",
        "   return output\n",
        "\n",
        "def remove_mouse(texts):\n",
        "   output = re.sub(r\"[\\w\\.\\-\\_]+@[\\w\\.\\-\\_]+\", '', texts)\n",
        "   return output\n",
        "\n",
        "def remove_symbols(texts):\n",
        "    output = re.sub(r\"[^a-zA-Z0-9]+\", ' ', texts)\n",
        "    return output\n",
        "\n",
        "def unify_whitespaces(texts):\n",
        "    cleaned_string = re.sub(' +', ' ', texts)\n",
        "    return cleaned_string\n",
        "\n",
        "import nltk\n",
        "from nltk.corpus import stopwords\n",
        "\n",
        "nltk.download('stopwords')\n",
        "\n",
        "stop = set(stopwords.words('english'))\n",
        "\n",
        "def remove_stopword(texts):\n",
        "   text=[word.lower() for word in texts.split() if word.lower() not in stop]\n",
        "   return \" \".join(text)\n",
        "\n",
        "def remove_emoji(texts):\n",
        "    output = re.compile(\"[\"\n",
        "            u\"\\U0001F600-\\U0001F64F\"  # emoticons\n",
        "            u\"\\U0001F300-\\U0001F5FF\"  # symbols & pictographs\n",
        "            u\"\\U0001F680-\\U0001F6FF\"  # transport & map symbols\n",
        "            u\"\\U0001F1E0-\\U0001F1FF\"  # flags (iOS)\n",
        "                              \"]+\", flags=re.UNICODE)\n",
        "    return output.sub(r'', texts)\n",
        "\n",
        "def cleaning(df,review):\n",
        "    df[review] = df[review].str.lower()\n",
        "    df[review] = df[review].apply(cleanlink)\n",
        "    df[review] = df[review].apply(remove_num)\n",
        "    df[review] = df[review].apply(remove_mouse)\n",
        "    df[review] = df[review].apply(remove_symbols)\n",
        "    df[review] = df[review].apply(unify_whitespaces)\n",
        "    df[review] = df[review].apply(remove_stopword)\n",
        "    df[review] = df[review].apply(remove_emoji)\n",
        "\n",
        "cleaning(df,'review_text')"
      ],
      "metadata": {
        "colab": {
          "base_uri": "https://localhost:8080/"
        },
        "id": "JdfdlhJCXt41",
        "outputId": "5167243b-40f4-42cb-8b89-8dc86f0d69f2"
      },
      "execution_count": 7,
      "outputs": [
        {
          "output_type": "stream",
          "name": "stderr",
          "text": [
            "[nltk_data] Downloading package stopwords to /root/nltk_data...\n",
            "[nltk_data]   Package stopwords is already up-to-date!\n"
          ]
        }
      ]
    },
    {
      "cell_type": "code",
      "source": [
        "from nltk.stem import WordNetLemmatizer\n",
        "nltk.download('wordnet')\n",
        "def lemmatize_text(text):\n",
        "    lemmatizer = WordNetLemmatizer()\n",
        "    tokens = [word.lower() for word in text.split()]\n",
        "    lemmatizer_tokens = [lemmatizer.lemmatize(token) for token in tokens]\n",
        "    return \" \".join(lemmatizer_tokens)\n",
        "df['review_text'] = df['review_text'].apply(lemmatize_text)"
      ],
      "metadata": {
        "colab": {
          "base_uri": "https://localhost:8080/"
        },
        "id": "5_8BAUqjXvQE",
        "outputId": "dee8cdc7-73d1-4fc1-c400-7a662f986f5f"
      },
      "execution_count": 9,
      "outputs": [
        {
          "output_type": "stream",
          "name": "stderr",
          "text": [
            "[nltk_data] Downloading package wordnet to /root/nltk_data...\n",
            "[nltk_data]   Package wordnet is already up-to-date!\n"
          ]
        }
      ]
    },
    {
      "cell_type": "code",
      "source": [
        "df['review_text']"
      ],
      "metadata": {
        "colab": {
          "base_uri": "https://localhost:8080/"
        },
        "id": "KSYHH7hJXwn0",
        "outputId": "e6d74f52-2499-4f87-871b-808f8cfdae83"
      },
      "execution_count": 10,
      "outputs": [
        {
          "output_type": "execute_result",
          "data": {
            "text/plain": [
              "0        computer enthusiast maxpc welcome sight mailbo...\n",
              "1        thank god ziff davis publication maxpc actuall...\n",
              "2        antique magazine publication made antique love...\n",
              "3        beautiful magazine work art quality every page...\n",
              "4                                   great read every issue\n",
              "                               ...                        \n",
              "89635    nice surprise boyfriend really enjoyed olympic...\n",
              "89636    magazine look like printed recycled shoe rubbe...\n",
              "89637            cant go wrong si subscriptionvery pleased\n",
              "89638    magazine far time favorite one metal detecting...\n",
              "89639                      nice magazine good info article\n",
              "Name: review_text, Length: 89640, dtype: object"
            ]
          },
          "metadata": {},
          "execution_count": 10
        }
      ]
    },
    {
      "cell_type": "code",
      "source": [
        "reviews = df[\"review_text\"].values.tolist()\n",
        "labels = df[\"review_score\"].tolist()"
      ],
      "metadata": {
        "id": "gTWd69S8Xx4_"
      },
      "execution_count": 11,
      "outputs": []
    },
    {
      "cell_type": "code",
      "source": [
        "from sklearn.model_selection import train_test_split\n",
        "from sklearn.metrics import confusion_matrix, classification_report\n",
        "\n",
        "import tensorflow as tf\n",
        "from tensorflow.keras.preprocessing.text import Tokenizer\n",
        "from tensorflow.keras.preprocessing.sequence import pad_sequences\n",
        "from tensorflow.keras.losses import SparseCategoricalCrossentropy\n",
        "from tensorflow.keras.layers import Dense, Input\n",
        "from tensorflow.keras.optimizers import Adam\n",
        "from tensorflow.keras.models import Model\n",
        "from tensorflow.keras.callbacks import ModelCheckpoint\n",
        "from tokenizers import BertWordPieceTokenizer\n",
        "\n",
        "import transformers\n",
        "from transformers import BertTokenizer, TFBertForSequenceClassification\n",
        "from transformers import InputExample, InputFeatures\n",
        "\n",
        "from sklearn.feature_extraction.text import TfidfVectorizer\n",
        "from scipy.sparse import coo_matrix, hstack\n",
        "from sklearn.naive_bayes import MultinomialNB\n",
        "\n",
        "import logging\n",
        "transformers.logging.set_verbosity_error()"
      ],
      "metadata": {
        "id": "MESLeHCHXy_w"
      },
      "execution_count": 12,
      "outputs": []
    },
    {
      "cell_type": "code",
      "source": [
        "from sklearn.model_selection import train_test_split\n",
        "X_train,X_test,Y_train, Y_test = train_test_split(df['review_text'], df['review_score'], test_size=0.25, random_state=30)\n",
        "print('Train: ',X_train.shape,Y_train.shape,'Test: ',(X_test.shape,Y_test.shape))"
      ],
      "metadata": {
        "colab": {
          "base_uri": "https://localhost:8080/"
        },
        "id": "wol3GLGwX0Bp",
        "outputId": "6baf5fb7-9325-43cd-e82a-bb9482215d6b"
      },
      "execution_count": 13,
      "outputs": [
        {
          "output_type": "stream",
          "name": "stdout",
          "text": [
            "Train:  (67230,) (67230,) Test:  ((22410,), (22410,))\n"
          ]
        }
      ]
    },
    {
      "cell_type": "code",
      "source": [
        "print('TFIDF Vectorizer......')\n",
        "from sklearn.feature_extraction.text import TfidfVectorizer\n",
        "vectorizer= TfidfVectorizer()\n",
        "tf_x_train = vectorizer.fit_transform(X_train)\n",
        "tf_x_test = vectorizer.transform(X_test)"
      ],
      "metadata": {
        "colab": {
          "base_uri": "https://localhost:8080/"
        },
        "id": "tv5aRoUIX1Pe",
        "outputId": "8e4e8c9a-8f08-4794-ee21-afb9304af0f6"
      },
      "execution_count": 14,
      "outputs": [
        {
          "output_type": "stream",
          "name": "stdout",
          "text": [
            "TFIDF Vectorizer......\n"
          ]
        }
      ]
    },
    {
      "cell_type": "code",
      "source": [
        "from imblearn.over_sampling import SMOTE\n",
        "sm = SMOTE(sampling_strategy='minority')\n",
        "tf_x_train_s, Y_train_s = sm.fit_resample(tf_x_train, Y_train)"
      ],
      "metadata": {
        "id": "FRzBMdnqX_Vv"
      },
      "execution_count": 15,
      "outputs": []
    },
    {
      "cell_type": "code",
      "source": [
        "from sklearn.model_selection import KFold\n",
        "from sklearn.model_selection import cross_val_score\n",
        "import xgboost as xgb\n",
        "from sklearn.ensemble import RandomForestClassifier\n",
        "\n",
        "kfold = KFold(n_splits=10, shuffle=True, random_state=42)\n",
        "model = RandomForestClassifier()\n",
        "#cv_results = cross_val_score(model, tf_x_train,Y_train, cv=kfold)\n",
        "\n",
        "#print(\"Cross-validation scores:\", cv_results)\n",
        "#print(\"Mean accuracy:\", np.mean(cv_results))\n",
        "\n",
        "fold_scores = []\n",
        "for fold, (train_index, test_index) in enumerate(kfold.split(tf_x_train_s)):\n",
        "    X_train, X_test = tf_x_train_s[train_index], tf_x_train_s[test_index]\n",
        "    y_train, y_test = np.array(Y_train_s)[train_index], np.array(Y_train_s)[test_index]\n",
        "\n",
        "    # 训练模型\n",
        "    model.fit(X_train, y_train)\n",
        "\n",
        "    # 评估模型\n",
        "    score = model.score(X_test, y_test)\n",
        "    fold_scores.append(score)\n",
        "\n",
        "    # 打印每个 fold 的分数\n",
        "    print(f\"Fold {fold+1} - Score: {score}\")\n",
        "\n",
        "# 打印所有 fold 的分数\n",
        "print(\"All fold scores:\", fold_scores)\n",
        "print(\"Mean accuracy:\", np.mean(fold_scores))"
      ],
      "metadata": {
        "colab": {
          "base_uri": "https://localhost:8080/"
        },
        "id": "F62lw-N9X2Re",
        "outputId": "f59533e4-bea4-456a-a533-022ce31e7685"
      },
      "execution_count": 20,
      "outputs": [
        {
          "output_type": "stream",
          "name": "stdout",
          "text": [
            "Fold 1 - Score: 0.9404978197674418\n",
            "Fold 2 - Score: 0.9415879360465116\n",
            "Fold 3 - Score: 0.9459484011627907\n",
            "Fold 4 - Score: 0.9424963662790697\n",
            "Fold 5 - Score: 0.9415879360465116\n",
            "Fold 6 - Score: 0.9474018895348837\n",
            "Fold 7 - Score: 0.9414009266830199\n",
            "Fold 8 - Score: 0.9434905060416099\n",
            "Fold 9 - Score: 0.9425819932770055\n",
            "Fold 10 - Score: 0.9433088034886891\n",
            "All fold scores: [0.9404978197674418, 0.9415879360465116, 0.9459484011627907, 0.9424963662790697, 0.9415879360465116, 0.9474018895348837, 0.9414009266830199, 0.9434905060416099, 0.9425819932770055, 0.9433088034886891]\n",
            "Mean accuracy: 0.9430302578327533\n"
          ]
        }
      ]
    },
    {
      "cell_type": "code",
      "source": [
        "from sklearn.metrics import classification_report\n",
        "from sklearn.metrics import classification_report,confusion_matrix, roc_curve, roc_auc_score, auc, accuracy_score, f1_score, precision_score, recall_score\n",
        "\n",
        "y_test_pred=model.predict(tf_x_test)\n",
        "y_pred_proba = model.predict_proba(tf_x_test)[:,1]\n",
        "print ('\\n')\n",
        "print (\"Model Final Generalization roc_auc_score: %.6f\" %roc_auc_score(Y_test,y_pred_proba))\n",
        "print (\"Model Final Generalization ACC: %.6f\" %accuracy_score(Y_test,y_test_pred))\n",
        "print (\"Model Final Generalization F1: %.6f\" %f1_score(Y_test,y_test_pred))\n",
        "print (\"Model Final Generalization precision: %.6f\" %precision_score(Y_test,y_test_pred))\n",
        "print (\"Model Final Generalization recall: %.6f\" %recall_score(Y_test,y_test_pred))"
      ],
      "metadata": {
        "colab": {
          "base_uri": "https://localhost:8080/"
        },
        "id": "nk_IkclKX33P",
        "outputId": "1119efc7-3c69-4f9b-bfa1-fe6f5d0ca77a"
      },
      "execution_count": 21,
      "outputs": [
        {
          "output_type": "stream",
          "name": "stdout",
          "text": [
            "\n",
            "\n",
            "Model Final Generalization roc_auc_score: 0.913294\n",
            "Model Final Generalization ACC: 0.877465\n",
            "Model Final Generalization F1: 0.924792\n",
            "Model Final Generalization precision: 0.929681\n",
            "Model Final Generalization recall: 0.919954\n"
          ]
        }
      ]
    },
    {
      "cell_type": "code",
      "source": [
        "import seaborn as sns\n",
        "from sklearn.metrics import classification_report,confusion_matrix, roc_curve, roc_auc_score, auc, accuracy_score, f1_score, precision_score, recall_score\n",
        "# Function to get roc curve\n",
        "def get_roc (y_test,y_pred):\n",
        "    # Compute ROC curve and ROC area for each class\n",
        "    fpr = dict()\n",
        "    tpr = dict()\n",
        "    roc_auc = dict()\n",
        "    fpr, tpr, _ = roc_curve(y_test, y_pred)\n",
        "    roc_auc = auc(fpr, tpr)\n",
        "    #Plot of a ROC curve\n",
        "    plt.figure()\n",
        "    lw = 2\n",
        "    plt.plot(fpr, tpr, color='darkorange',\n",
        "             label='ROC curve (area = %0.2f)' % roc_auc)\n",
        "    plt.plot([0, 1], [0, 1], color='navy', lw=lw, linestyle='--')\n",
        "    plt.xlim([0.0, 1.0])\n",
        "    plt.ylim([0.0, 1.0])\n",
        "    plt.xlabel('False Positive Rate')\n",
        "    plt.ylabel('True Positive Rate')\n",
        "    plt.title('Receiver Operating Characteristic')\n",
        "    plt.legend(loc=\"upper left\")\n",
        "    plt.show()\n",
        "    return\n",
        "\n",
        "def model_performance(y_test,y_pred, method):\n",
        "\n",
        "    # calculate the accruacy of the model\n",
        "    print(\"Accuracy score of the model\", accuracy_score(y_test,y_pred))\n",
        "    print(\"Classification report \\n\")\n",
        "\n",
        "    #generate the classification report\n",
        "    print(classification_report(y_test,y_pred))\n",
        "\n",
        "    #generate the confusion matrix\n",
        "    fig = plt.figure(figsize = (4,4))\n",
        "    ax = fig.gca()\n",
        "    cnf_matrix_log = confusion_matrix(y_test, y_pred)\n",
        "    sns.heatmap(pd.DataFrame(cnf_matrix_log), annot=True,cmap=\"GnBu\" , fmt='g')\n",
        "    ax.xaxis.set_label_position(\"top\")\n",
        "    ax.xaxis.set_ticklabels(['Negative', 'Positive'])\n",
        "    ax.yaxis.set_ticklabels(['Negative', 'Positive'])\n",
        "    ax.set_xlabel(\"Predicted Diagnosis\", fontsize=14, labelpad=20)\n",
        "    ax.set_ylabel(\"Actual Diagnosis\", fontsize=14, labelpad=20)\n",
        "    plt.tight_layout()\n",
        "    plt.title('Confusion matrix: '+  method + '\\n', y=1.1)\n",
        "\n",
        "get_roc (Y_test, y_pred_proba)\n",
        "print('\\n')\n",
        "model_performance(Y_test, y_test_pred, 'XGBoost')"
      ],
      "metadata": {
        "colab": {
          "base_uri": "https://localhost:8080/",
          "height": 1000
        },
        "id": "kMCxHcPlX5iy",
        "outputId": "dd799e17-4000-48dd-d5dc-d2facfdd6703"
      },
      "execution_count": 22,
      "outputs": [
        {
          "output_type": "display_data",
          "data": {
            "text/plain": [
              "<Figure size 640x480 with 1 Axes>"
            ],
            "image/png": "[encoded data removed]"
          },
          "metadata": {}
        },
        {
          "output_type": "stream",
          "name": "stdout",
          "text": [
            "\n",
            "\n",
            "Accuracy score of the model 0.8774654172244534\n",
            "Classification report \n",
            "\n",
            "              precision    recall  f1-score   support\n",
            "\n",
            "           0       0.65      0.69      0.67      4058\n",
            "           1       0.93      0.92      0.92     18352\n",
            "\n",
            "    accuracy                           0.88     22410\n",
            "   macro avg       0.79      0.80      0.80     22410\n",
            "weighted avg       0.88      0.88      0.88     22410\n",
            "\n"
          ]
        },
        {
          "output_type": "display_data",
          "data": {
            "text/plain": [
              "<Figure size 400x400 with 2 Axes>"
            ],
            "image/png": "[encoded data removed]"
          },
          "metadata": {}
        }
      ]
    }
  ]
}